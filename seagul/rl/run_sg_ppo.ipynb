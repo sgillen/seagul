{
 "cells": [
  {
   "cell_type": "code",
   "execution_count": 2,
   "metadata": {},
   "outputs": [
    {
     "name": "stdin",
     "output_type": "stream",
     "text": [
      "please enter a name for this run:  ugh\n",
      "please enter a brief description of the run:  \n"
     ]
    },
    {
     "name": "stderr",
     "output_type": "stream",
     "text": [
      "100%|██████████| 10/10 [00:55<00:00,  5.05s/it]\n"
     ]
    }
   ],
   "source": [
    "from seagul.rl.run import run_sg\n",
    "from seagul.rl.models import ppoModel\n",
    "from seagul.nn import MLP\n",
    "from seagul.rl.ppo import ppo\n",
    "\n",
    "import torch\n",
    "import torch.nn as nn\n",
    "\n",
    "\n",
    "## init policy, valuefn\n",
    "input_size = 4\n",
    "output_size = 1\n",
    "layer_size = 64\n",
    "num_layers=3\n",
    "activation=nn.ReLU\n",
    "\n",
    "torch.set_default_dtype(torch.double)\n",
    "\n",
    "model = ppoModel(\n",
    "    policy = MLP(input_size, output_size, num_layers, layer_size, activation),\n",
    "    value_fn = MLP(input_size, 1, num_layers, layer_size, activation),\n",
    "    action_var = 4\n",
    ")\n",
    "\n",
    "arg_dict = {\n",
    "    'env_name' : 'su_cartpole-v0',\n",
    "    'model' : model,\n",
    "    'num_epochs' : 10,\n",
    "    'action_var_schedule' : [10,0]\n",
    "}\n",
    "\n",
    "\n",
    "run_sg(arg_dict, ppo)"
   ]
  },
  {
   "cell_type": "code",
   "execution_count": null,
   "metadata": {},
   "outputs": [],
   "source": []
  }
 ],
 "metadata": {
  "kernelspec": {
   "display_name": "Seacar",
   "language": "python",
   "name": "seacar"
  },
  "language_info": {
   "codemirror_mode": {
    "name": "ipython",
    "version": 3
   },
   "file_extension": ".py",
   "mimetype": "text/x-python",
   "name": "python",
   "nbconvert_exporter": "python",
   "pygments_lexer": "ipython3",
   "version": "3.6.8"
  }
 },
 "nbformat": 4,
 "nbformat_minor": 2
}
