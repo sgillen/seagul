{
 "cells": [
  {
   "cell_type": "code",
   "execution_count": 1,
   "metadata": {},
   "outputs": [
    {
     "name": "stdout",
     "output_type": "stream",
     "text": [
      "Logging to /var/folders/qq/gpxz4l6s1tndfdhysbz8bdym0000gn/T/openai-2019-09-03-20-29-45-861767\n"
     ]
    },
    {
     "name": "stdin",
     "output_type": "stream",
     "text": [
      "please enter a name for this run:  git_sha5\n",
      "please enter a brief description of the run:  \n"
     ]
    },
    {
     "name": "stderr",
     "output_type": "stream",
     "text": [
      "100%|██████████| 5/5 [00:55<00:00, 11.04s/it]\n"
     ]
    }
   ],
   "source": [
    "from seagul.rl.run import run_sg\n",
    "from seagul.rl.models import switchedPpoModel\n",
    "from seagul.nn import MLP\n",
    "from seagul.rl.ppo_switching import ppo_switch\n",
    "\n",
    "import torch\n",
    "import torch.nn as nn\n",
    "\n",
    "import gym\n",
    "\n",
    "## init policy, valuefn\n",
    "input_size = 4\n",
    "output_size = 1\n",
    "layer_size = 64\n",
    "num_layers=3\n",
    "activation=nn.ReLU\n",
    "\n",
    "torch.set_default_dtype(torch.double)\n",
    "\n",
    "from seagul.sims.cartpole import LQRControl\n",
    "env_name = 'su_cartpole-v0'\n",
    "\n",
    "model = switchedPpoModel(\n",
    "    policy = MLP(input_size, output_size, num_layers, layer_size, activation),\n",
    "    value_fn = MLP(input_size, 1, num_layers, layer_size, activation),\n",
    "    gate_fn = MLP(input_size, 1, num_layers,layer_size, activation),\n",
    "    nominal_policy=LQRControl,\n",
    "    action_var = 4,\n",
    "    gate_var = .08,\n",
    "    env = gym.make(env_name)\n",
    ")\n",
    "\n",
    "arg_dict = {\n",
    "    'env_name' : env_name,\n",
    "    'model' : model,\n",
    "    'num_epochs' : 5,\n",
    "    'action_var_schedule' : [.1],\n",
    "}\n",
    "\n",
    "run_sg(arg_dict, ppo_switch)\n"
   ]
  },
  {
   "cell_type": "code",
   "execution_count": 23,
   "metadata": {},
   "outputs": [],
   "source": [
    "import subprocess\n",
    "label = subprocess.check_output(['git', 'rev-parse', 'HEAD']).decode('ascii').strip()"
   ]
  },
  {
   "cell_type": "code",
   "execution_count": 24,
   "metadata": {},
   "outputs": [
    {
     "data": {
      "text/plain": [
       "'5c9e66c428a42c6f23e50f15c96fb4106771c93c'"
      ]
     },
     "execution_count": 24,
     "metadata": {},
     "output_type": "execute_result"
    }
   ],
   "source": [
    "label"
   ]
  },
  {
   "cell_type": "code",
   "execution_count": null,
   "metadata": {},
   "outputs": [],
   "source": []
  }
 ],
 "metadata": {
  "kernelspec": {
   "display_name": "Seacar",
   "language": "python",
   "name": "seacar"
  },
  "language_info": {
   "codemirror_mode": {
    "name": "ipython",
    "version": 3
   },
   "file_extension": ".py",
   "mimetype": "text/x-python",
   "name": "python",
   "nbconvert_exporter": "python",
   "pygments_lexer": "ipython3",
   "version": "3.6.8"
  }
 },
 "nbformat": 4,
 "nbformat_minor": 2
}
