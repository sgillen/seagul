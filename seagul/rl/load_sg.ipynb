{
 "cells": [
  {
   "cell_type": "code",
   "execution_count": 4,
   "metadata": {},
   "outputs": [],
   "source": [
    "import pickle\n",
    "import torch.utils.data\n",
    "import torch\n",
    "from seagul.rl.run import load_model, load_workspace\n",
    "import numpy as np\n",
    "import matplotlib.pyplot as plt\n",
    "\n",
    "\n",
    "load_path = './data/poop'"
   ]
  },
  {
   "cell_type": "code",
   "execution_count": 5,
   "metadata": {},
   "outputs": [],
   "source": [
    "model, env, args, ws = load_workspace(load_path)"
   ]
  },
  {
   "cell_type": "code",
   "execution_count": 6,
   "metadata": {},
   "outputs": [
    {
     "name": "stdout",
     "output_type": "stream",
     "text": [
      "[0.00159393]\n"
     ]
    }
   ],
   "source": [
    "myenv = env\n",
    "myenv.num_steps=1500\n",
    "\n",
    "action_hist = np.zeros((myenv.num_steps, myenv.action_space.shape[0]))\n",
    "state_hist = np.zeros((myenv.num_steps, myenv.observation_space.shape[0]))\n",
    "reward_hist = np.zeros((myenv.num_steps, 1))\n",
    "\n",
    "passive_action_hist = np.zeros((myenv.num_steps, myenv.action_space.shape[0]))\n",
    "passive_state_hist = np.zeros((myenv.num_steps, myenv.observation_space.shape[0]))\n",
    "passive_reward_hist = np.zeros((myenv.num_steps, 1))\n",
    "\n",
    "obs = env.reset()\n",
    "\n",
    "# play one episode with control on\n",
    "for i in range(myenv.num_steps):\n",
    "        actions, _, _, _ = model.step(obs)\n",
    "        obs, reward, done, _ = env.step(actions)        \n",
    "        action_hist[i,:] = np.copy(actions)\n",
    "        state_hist[i,:] = np.copy(obs)\n",
    "        reward_hist[i,:] = np.copy(reward)\n",
    "        env.render()\n",
    "        if done:\n",
    "            break\n",
    "            \n",
    "print(sum(reward_hist))"
   ]
  },
  {
   "cell_type": "code",
   "execution_count": null,
   "metadata": {},
   "outputs": [],
   "source": []
  }
 ],
 "metadata": {
  "kernelspec": {
   "display_name": "Python [conda env:seacar]",
   "language": "python",
   "name": "conda-env-seacar-py"
  },
  "language_info": {
   "codemirror_mode": {
    "name": "ipython",
    "version": 3
   },
   "file_extension": ".py",
   "mimetype": "text/x-python",
   "name": "python",
   "nbconvert_exporter": "python",
   "pygments_lexer": "ipython3",
   "version": "3.6.8"
  }
 },
 "nbformat": 4,
 "nbformat_minor": 2
}
