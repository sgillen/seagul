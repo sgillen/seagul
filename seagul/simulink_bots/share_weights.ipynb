{
 "cells": [
  {
   "cell_type": "code",
   "execution_count": 7,
   "metadata": {},
   "outputs": [],
   "source": [
    "from seagul.simulink_bots.share_weights import *\n",
    "import torch.nn as nn\n",
    "from seagul.nn import MLP, CategoricalMLP\n",
    "from seagul.rl.models import PpoModel\n",
    "import torch\n",
    "import torch.nn as nn\n",
    "\n",
    "import matplotlib.pyplot as plt\n",
    "\n",
    "torch.set_default_dtype(torch.double)\n",
    "\n",
    "   "
   ]
  },
  {
   "cell_type": "code",
   "execution_count": 19,
   "metadata": {},
   "outputs": [],
   "source": [
    "#ep_obs, ep_act, ep_rew, ep_steps = do_rollout(env, model)\n",
    "input_size = 4\n",
    "output_size = 1\n",
    "layer_size = 24\n",
    "num_layers = 2\n",
    "activation = nn.ReLU\n",
    "\n",
    "policy = MLP(input_size, output_size, num_layers, layer_size, activation)\n",
    "value_fn = MLP(input_size, 1, num_layers, layer_size, activation)\n",
    "model = PpoModel(policy, value_fn, action_var=.1, discrete=True)\n",
    "\n",
    "def do_rollout(env, model):\n",
    "    pass\n",
    "\n",
    "\n",
    "    "
   ]
  },
  {
   "cell_type": "code",
   "execution_count": 29,
   "metadata": {},
   "outputs": [],
   "source": [
    "\n",
    "num_layers = 4\n",
    "weight_names = [\"wght.dat\" + str(num) for num in range(num_layers)]\n",
    "bias_names   = [\"bias.dat\" + str(num) for num in range(num_layers)]\n",
    "names = [val for pair in zip(weight_names, bias_names) for val in pair]\n",
    "\n",
    "for name, thing in zip(names, p.state_dict().values()):\n",
    "    write_weights('./net1/' + name, thing)\n",
    "    \n",
    "    \n",
    "    "
   ]
  },
  {
   "cell_type": "code",
   "execution_count": 23,
   "metadata": {},
   "outputs": [
    {
     "name": "stdout",
     "output_type": "stream",
     "text": [
      "layers.0.weight\n",
      "layers.0.bias\n",
      "layers.1.weight\n",
      "layers.1.bias\n",
      "layers.2.weight\n",
      "layers.2.bias\n",
      "layers.3.weight\n",
      "layers.3.bias\n",
      "output_layer.weight\n",
      "output_layer.bias\n"
     ]
    }
   ],
   "source": [
    "for name, thing in p.state_dict().items():\n",
    "    print(name)"
   ]
  },
  {
   "cell_type": "code",
   "execution_count": null,
   "metadata": {},
   "outputs": [],
   "source": []
  }
 ],
 "metadata": {
  "kernelspec": {
   "display_name": "Switched RL (3.6)",
   "language": "python",
   "name": "swrl"
  },
  "language_info": {
   "codemirror_mode": {
    "name": "ipython",
    "version": 3
   },
   "file_extension": ".py",
   "mimetype": "text/x-python",
   "name": "python",
   "nbconvert_exporter": "python",
   "pygments_lexer": "ipython3",
   "version": "3.6.9"
  }
 },
 "nbformat": 4,
 "nbformat_minor": 4
}
